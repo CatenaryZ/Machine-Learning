{
 "cells": [
  {
   "cell_type": "code",
   "execution_count": 37,
   "metadata": {},
   "outputs": [],
   "source": [
    "import torch\n",
    "import torch.nn as nn\n",
    "import torchvision\n",
    "import torchvision.transforms as transforms"
   ]
  },
  {
   "cell_type": "code",
   "execution_count": 38,
   "metadata": {},
   "outputs": [
    {
     "name": "stdout",
     "output_type": "stream",
     "text": [
      "cuda\n"
     ]
    }
   ],
   "source": [
    "# Device configuration\n",
    "device = torch.device('cuda' if torch.cuda.is_available() else 'cpu')\n",
    "print(device)"
   ]
  },
  {
   "cell_type": "code",
   "execution_count": null,
   "metadata": {},
   "outputs": [],
   "source": [
    "# Hyper-parameters \n",
    "input_size = 3*32*32\n",
    "hidden_size = 500\n",
    "num_classes = 10\n",
    "num_epochs = 2\n",
    "batch_size = 100\n",
    "learning_rate = 0.0001"
   ]
  },
  {
   "cell_type": "code",
   "execution_count": 40,
   "metadata": {},
   "outputs": [
    {
     "name": "stdout",
     "output_type": "stream",
     "text": [
      "(tensor([[[1.0000, 0.9922, 0.9922,  ..., 0.9922, 0.9922, 0.9922],\n",
      "         [1.0000, 1.0000, 1.0000,  ..., 1.0000, 1.0000, 1.0000],\n",
      "         [1.0000, 0.9961, 0.9961,  ..., 0.9961, 0.9961, 0.9961],\n",
      "         ...,\n",
      "         [0.4431, 0.4353, 0.4118,  ..., 0.2824, 0.2824, 0.2824],\n",
      "         [0.4353, 0.4078, 0.3882,  ..., 0.2667, 0.2745, 0.3059],\n",
      "         [0.4157, 0.3882, 0.3725,  ..., 0.3059, 0.3098, 0.3137]],\n",
      "\n",
      "        [[1.0000, 0.9922, 0.9922,  ..., 0.9922, 0.9922, 0.9922],\n",
      "         [1.0000, 1.0000, 1.0000,  ..., 1.0000, 1.0000, 1.0000],\n",
      "         [1.0000, 0.9961, 0.9961,  ..., 0.9961, 0.9961, 0.9961],\n",
      "         ...,\n",
      "         [0.4706, 0.4627, 0.4392,  ..., 0.3176, 0.3137, 0.3137],\n",
      "         [0.4627, 0.4353, 0.4157,  ..., 0.2941, 0.2980, 0.3294],\n",
      "         [0.4431, 0.4157, 0.4000,  ..., 0.3333, 0.3333, 0.3373]],\n",
      "\n",
      "        [[1.0000, 0.9922, 0.9922,  ..., 0.9922, 0.9922, 0.9922],\n",
      "         [1.0000, 1.0000, 1.0000,  ..., 1.0000, 1.0000, 1.0000],\n",
      "         [1.0000, 0.9961, 0.9961,  ..., 0.9961, 0.9961, 0.9961],\n",
      "         ...,\n",
      "         [0.4392, 0.4353, 0.4157,  ..., 0.3137, 0.3098, 0.3098],\n",
      "         [0.4314, 0.4078, 0.3843,  ..., 0.2863, 0.2941, 0.3216],\n",
      "         [0.4118, 0.3843, 0.3686,  ..., 0.3255, 0.3255, 0.3294]]]), 9)\n"
     ]
    }
   ],
   "source": [
    "#dataset \n",
    "train_dataset = torchvision.datasets.CIFAR10(root='/home/fogman/my-venv/data', \n",
    "                                           train=True, \n",
    "                                           transform=transforms.ToTensor(),  \n",
    "                                           download=True)\n",
    "test_dataset = torchvision.datasets.CIFAR10(root='/home/fogman/my-venv/data', \n",
    "                                          train=False, \n",
    "                                          transform=transforms.ToTensor(),\n",
    "                                          download=True)\n",
    "print(train_dataset[2])"
   ]
  },
  {
   "cell_type": "code",
   "execution_count": 41,
   "metadata": {},
   "outputs": [],
   "source": [
    "# Data loader\n",
    "train_loader = torch.utils.data.DataLoader(dataset=train_dataset, \n",
    "                                           batch_size=batch_size, \n",
    "                                           shuffle=True)\n",
    "\n",
    "test_loader = torch.utils.data.DataLoader(dataset=test_dataset, \n",
    "                                          batch_size=batch_size, \n",
    "                                          shuffle=False)"
   ]
  },
  {
   "cell_type": "code",
   "execution_count": 42,
   "metadata": {},
   "outputs": [
    {
     "name": "stdout",
     "output_type": "stream",
     "text": [
      "Model's state_dict:\n",
      "fc1.weight \t torch.Size([500, 3072])\n",
      "fc1.bias \t torch.Size([500])\n",
      "fc2.weight \t torch.Size([10, 500])\n",
      "fc2.bias \t torch.Size([10])\n"
     ]
    }
   ],
   "source": [
    "# Fully connected neural network with one hidden layer\n",
    "class NeuralNet(nn.Module):\n",
    "    def __init__(self, input_size, hidden_size, num_classes):\n",
    "        super(NeuralNet, self).__init__()\n",
    "        self.fc1 = nn.Linear(input_size, hidden_size) \n",
    "        self.relu = nn.ReLU()\n",
    "        self.fc2 = nn.Linear(hidden_size, num_classes)  \n",
    "    \n",
    "    def forward(self, x):\n",
    "        out = self.fc1(x)\n",
    "        out = self.relu(out)\n",
    "        out = self.fc2(out)\n",
    "        return out\n",
    "\n",
    "model = NeuralNet(input_size, hidden_size, num_classes).to(device)\n",
    "\n",
    "\n",
    "\n",
    "print(\"Model's state_dict:\")\n",
    "for param_tensor in model.state_dict():\n",
    "    print(param_tensor, \"\\t\", model.state_dict()[param_tensor].size())"
   ]
  },
  {
   "cell_type": "code",
   "execution_count": 43,
   "metadata": {},
   "outputs": [],
   "source": [
    "# Loss and optimizer\n",
    "criterion = nn.CrossEntropyLoss()\n",
    "optimizer = torch.optim.Adam(model.parameters(), lr=learning_rate)  "
   ]
  },
  {
   "cell_type": "code",
   "execution_count": 44,
   "metadata": {},
   "outputs": [
    {
     "name": "stdout",
     "output_type": "stream",
     "text": [
      "tensor([[0.2314, 0.1686, 0.1961,  ..., 0.5490, 0.3294, 0.2824]],\n",
      "       device='cuda:0')\n",
      "tensor([6], device='cuda:0')\n",
      "tensor([[ 0.0092,  0.0233, -0.0048,  0.1283,  0.0305, -0.0173,  0.0200,  0.0710,\n",
      "          0.0995, -0.0120]], device='cuda:0', grad_fn=<AddmmBackward0>)\n",
      "tensor(2.3185, device='cuda:0', grad_fn=<NllLossBackward0>)\n"
     ]
    }
   ],
   "source": [
    "image, label = train_dataset[0]\n",
    "image = image.reshape(-1, input_size).to(device)\n",
    "\n",
    "label = torch.tensor([label]).to(device)\n",
    "\n",
    "print(image)\n",
    "print(label)\n",
    "\n",
    "\n",
    "out = model(image)\n",
    "\n",
    "loss = criterion(out,label)\n",
    "\n",
    "\n",
    "print(out)\n",
    "print(loss)"
   ]
  },
  {
   "cell_type": "code",
   "execution_count": 45,
   "metadata": {},
   "outputs": [
    {
     "name": "stdout",
     "output_type": "stream",
     "text": [
      "Epoch [1/2], Step [100/500], Loss: 2.0032\n",
      "Epoch [1/2], Step [200/500], Loss: 1.8313\n",
      "Epoch [1/2], Step [300/500], Loss: 1.8477\n",
      "Epoch [1/2], Step [400/500], Loss: 1.7057\n",
      "Epoch [1/2], Step [500/500], Loss: 1.7349\n",
      "Epoch [2/2], Step [100/500], Loss: 1.6907\n",
      "Epoch [2/2], Step [200/500], Loss: 1.7010\n",
      "Epoch [2/2], Step [300/500], Loss: 1.7756\n",
      "Epoch [2/2], Step [400/500], Loss: 1.9620\n",
      "Epoch [2/2], Step [500/500], Loss: 1.7408\n"
     ]
    }
   ],
   "source": [
    "# Train the model\n",
    "total_step = len(train_loader)\n",
    "#print (total_step)\n",
    "\n",
    "for epoch in range(num_epochs):\n",
    "    for i, (images, labels) in enumerate(train_loader):  \n",
    "        # Move tensors to the configured device\n",
    "        images = images.reshape(-1,input_size).to(device)\n",
    "        labels = labels.to(device)\n",
    "        \n",
    "        outputs = model(images)\n",
    "        loss = criterion(outputs, labels)\n",
    "\n",
    "        \n",
    "        # Backward and optimize\n",
    "        optimizer.zero_grad()\n",
    "        loss.backward()\n",
    "        optimizer.step()\n",
    "\n",
    "        \n",
    "        if (i+1) % 100 == 0:\n",
    "            print ('Epoch [{}/{}], Step [{}/{}], Loss: {:.4f}' \n",
    "                   .format(epoch+1, num_epochs, i+1, total_step, loss.item()))"
   ]
  },
  {
   "cell_type": "code",
   "execution_count": 46,
   "metadata": {},
   "outputs": [
    {
     "name": "stdout",
     "output_type": "stream",
     "text": [
      "Accuracy of the network on the 10000 test images: 40.2 %\n"
     ]
    }
   ],
   "source": [
    "with torch.no_grad():\n",
    "    correct = 0\n",
    "    total = 0\n",
    "    for images, labels in test_loader:\n",
    "        images = images.reshape(-1, input_size).to(device)\n",
    "        labels = labels.to(device)\n",
    "        \n",
    "        outputs = model(images)\n",
    "        _, predicted = torch.max(outputs.data, 1)\n",
    "        total += labels.size(0)\n",
    "        correct += (predicted == labels).sum().item()\n",
    "\n",
    "    print('Accuracy of the network on the 10000 test images: {} %'.format(100 * correct / total))"
   ]
  },
  {
   "cell_type": "code",
   "execution_count": 47,
   "metadata": {},
   "outputs": [],
   "source": [
    "# Save the model checkpoint\n",
    "torch.save(model.state_dict(), 'model1.ckpt')"
   ]
  }
 ],
 "metadata": {
  "kernelspec": {
   "display_name": "my-venv",
   "language": "python",
   "name": "python3"
  },
  "language_info": {
   "codemirror_mode": {
    "name": "ipython",
    "version": 3
   },
   "file_extension": ".py",
   "mimetype": "text/x-python",
   "name": "python",
   "nbconvert_exporter": "python",
   "pygments_lexer": "ipython3",
   "version": "3.12.3"
  }
 },
 "nbformat": 4,
 "nbformat_minor": 2
}
